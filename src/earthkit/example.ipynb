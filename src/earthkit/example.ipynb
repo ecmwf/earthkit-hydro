{
 "cells": [
  {
   "cell_type": "code",
   "execution_count": 1,
   "metadata": {},
   "outputs": [],
   "source": [
    "import hydro\n",
    "import numpy as np"
   ]
  },
  {
   "cell_type": "code",
   "execution_count": null,
   "metadata": {},
   "outputs": [],
   "source": [
    "# path_to_pcraster_file = \"/ec/vol/efas/static_data/5.0/ldd.nc\"\n",
    "# network = hydro.from_netcdf_d8(path_to_pcraster_file)"
   ]
  },
  {
   "cell_type": "code",
   "execution_count": 2,
   "metadata": {},
   "outputs": [],
   "source": [
    "path_to_camaflood_file = \"/perm/paga/cmflood/static_network_nc_v2.1/glb_01min/1min.downxy.nc\"\n",
    "# network = hydro.from_camaflood(\"/perm/paga/cmflood/static_network_nc_v2.1/glb_01min/1min.downxy.nc\")"
   ]
  },
  {
   "cell_type": "code",
   "execution_count": 3,
   "metadata": {},
   "outputs": [],
   "source": [
    "import xarray as xr\n",
    "downxy = xr.open_dataset(path_to_camaflood_file, mask_and_scale=False)\n",
    "dx_flat, dy_flat = downxy.downx.values.flatten(), downxy.downy.values.flatten()"
   ]
  },
  {
   "cell_type": "code",
   "execution_count": 15,
   "metadata": {},
   "outputs": [
    {
     "name": "stdout",
     "output_type": "stream",
     "text": [
      "[ 32335199 138412800]\n"
     ]
    }
   ],
   "source": [
    "mask_upstream = ((dx_flat != -999) & (dx_flat != -9999)) & (dx_flat != -1000)\n",
    "dx = downxy.downx.values\n",
    "dy = downxy.downy.values\n",
    "nx = dx.shape[0]\n",
    "ny = dx.shape[1]\n",
    "\n",
    "y = np.arange(ny)\n",
    "y = np.tile(y, (nx, 1))\n",
    "x = np.arange(nx)\n",
    "x = np.tile(x, (ny, 1)).T\n",
    "\n",
    "new_x = np.remainder(x + dx, nx)\n",
    "new_y = np.remainder(y + dy, ny)\n",
    "\n",
    "upstream_indices = np.arange(dx.size)[mask_upstream]\n",
    "\n",
    "downstream_indices = new_x.flatten() + new_y.flatten() * ny\n",
    "downstream_indices = downstream_indices[mask_upstream]\n",
    "print(upstream_indices[np.where(dx_flat[downstream_indices] == -9999)])"
   ]
  },
  {
   "cell_type": "code",
   "execution_count": 6,
   "metadata": {},
   "outputs": [],
   "source": [
    "mask_upstream = ((dx_flat != -999) & (dx_flat != -9999)) & (dx_flat != -1000)\n",
    "dx = downxy.downx.values\n",
    "dy = downxy.downy.values\n",
    "mask_upstream_2d = ((dx != -999) & (dx != -9999)) & (dx != -1000)\n",
    "nx = dx.shape[0]\n",
    "ny = dx.shape[1]\n",
    "\n",
    "upstream_indices = np.arange(dx.size).reshape(nx, ny)"
   ]
  },
  {
   "cell_type": "code",
   "execution_count": 7,
   "metadata": {},
   "outputs": [
    {
     "data": {
      "text/plain": [
       "array([[        0,         1,         2, ...,     21597,     21598,\n",
       "            21599],\n",
       "       [    21600,     21601,     21602, ...,     43197,     43198,\n",
       "            43199],\n",
       "       [    43200,     43201,     43202, ...,     64797,     64798,\n",
       "            64799],\n",
       "       ...,\n",
       "       [233215200, 233215201, 233215202, ..., 233236797, 233236798,\n",
       "        233236799],\n",
       "       [233236800, 233236801, 233236802, ..., 233258397, 233258398,\n",
       "        233258399],\n",
       "       [233258400, 233258401, 233258402, ..., 233279997, 233279998,\n",
       "        233279999]])"
      ]
     },
     "execution_count": 7,
     "metadata": {},
     "output_type": "execute_result"
    }
   ],
   "source": [
    "upstream_indices\n",
    "downstream_offset = dx_flat[mask_upstream] + dy_flat[mask_upstream] * ny\n",
    "downstream_indices = upstream_indices[mask_upstream_2d] + downstream_offset"
   ]
  },
  {
   "cell_type": "code",
   "execution_count": 18,
   "metadata": {},
   "outputs": [
    {
     "data": {
      "text/plain": [
       "(array([6408]), array([0]))"
      ]
     },
     "execution_count": 18,
     "metadata": {},
     "output_type": "execute_result"
    }
   ],
   "source": [
    "np.where(np.arange(downxy.downx.values.size).reshape(nx, ny) == 138412800)"
   ]
  },
  {
   "cell_type": "code",
   "execution_count": 19,
   "metadata": {},
   "outputs": [
    {
     "name": "stdout",
     "output_type": "stream",
     "text": [
      "DOWNX\n",
      "-999 -1 -1\n",
      "-1 -1 -2\n",
      "-999 -1 -2\n",
      "DOWNY\n",
      "-999 -1 -1\n",
      "-1 -1 -2\n",
      "-999 -1 -2\n"
     ]
    }
   ],
   "source": [
    "indx1, indx2 = 6408, 1\n",
    "print(\"DOWNX\")\n",
    "print(downxy.downx.values[indx1-1][indx2-1], downxy.downx.values[indx1-1][indx2], downxy.downx.values[indx1-1][indx2+1])\n",
    "print(downxy.downx.values[indx1][indx2-1], downxy.downx.values[indx1][indx2], downxy.downx.values[indx1][indx2+1])\n",
    "print(downxy.downx.values[indx1+1][indx2-1], downxy.downx.values[indx1+1][indx2], downxy.downx.values[indx1+1][indx2+1])\n",
    "print('DOWNY')\n",
    "print(downxy.downy.values[indx1-1][indx2-1], downxy.downy.values[indx1-1][indx2], downxy.downy.values[indx1-1][indx2+1])\n",
    "print(downxy.downy.values[indx1][indx2-1], downxy.downy.values[indx1][indx2], downxy.downy.values[indx1][indx2+1])\n",
    "print(downxy.downy.values[indx1+1][indx2-1], downxy.downy.values[indx1+1][indx2], downxy.downy.values[indx1+1][indx2+1])\n",
    "\n",
    "# print()\n",
    "# print(downxy.downy.values[indx1-1][indx2])"
   ]
  },
  {
   "cell_type": "code",
   "execution_count": null,
   "metadata": {},
   "outputs": [],
   "source": [
    "# DOWNX\n",
    "# -999 -9999 -9999\n",
    "# -1 -1 -9999\n",
    "# -999 -999 -999\n",
    "# DOWNY\n",
    "# -999 -9999 -9999\n",
    "# 0 0 -9999\n",
    "# -999 -999 -999"
   ]
  },
  {
   "cell_type": "code",
   "execution_count": 14,
   "metadata": {},
   "outputs": [
    {
     "data": {
      "text/plain": [
       "(np.int32(1), np.int32(-1))"
      ]
     },
     "execution_count": 14,
     "metadata": {},
     "output_type": "execute_result"
    }
   ],
   "source": [
    "dx_flat[32335199], dy_flat[138412800]"
   ]
  },
  {
   "cell_type": "code",
   "execution_count": null,
   "metadata": {},
   "outputs": [],
   "source": [
    "8986578, 49342400"
   ]
  },
  {
   "cell_type": "code",
   "execution_count": 3,
   "metadata": {},
   "outputs": [],
   "source": [
    "# network = hydro.from_d8(np.array([\n",
    "#         [2, 2, 2, 1, 1],\n",
    "#         [2, 2, 2, 1, 1],\n",
    "#         [3, 2, 1, 4, 4],\n",
    "#         [6, 5, 4, 4, 4]\n",
    "#     ]))"
   ]
  },
  {
   "cell_type": "code",
   "execution_count": 4,
   "metadata": {},
   "outputs": [],
   "source": [
    "# field = np.ones(network.n_nodes)\n",
    "# out_field = network.accuflux(field)\n",
    "# print(field, out_field)\n",
    "# field = np.ones(network.n_nodes)\n",
    "# out_field = network.accuflux(field, in_place=False)\n",
    "# print(field, out_field)"
   ]
  },
  {
   "cell_type": "code",
   "execution_count": null,
   "metadata": {},
   "outputs": [],
   "source": [
    "# import jax.numpy as jp\n",
    "# field = np.ones(network.n_nodes)\n",
    "# jax_field = jp.array(field)\n",
    "# network.prepare_for_accuflux_splitter()"
   ]
  },
  {
   "cell_type": "code",
   "execution_count": null,
   "metadata": {},
   "outputs": [],
   "source": [
    "# network.construct_split_topological_sort2()"
   ]
  },
  {
   "cell_type": "code",
   "execution_count": 7,
   "metadata": {},
   "outputs": [],
   "source": [
    "# network.accuflux_splitter_jit()(jax_field)"
   ]
  },
  {
   "cell_type": "code",
   "execution_count": null,
   "metadata": {},
   "outputs": [],
   "source": [
    "# field = np.ones(network.n_nodes)\n",
    "# network.naive_splitter_accuflux(field)"
   ]
  },
  {
   "cell_type": "code",
   "execution_count": null,
   "metadata": {},
   "outputs": [],
   "source": [
    "field = np.ones(network.n_nodes)\n",
    "out_field_1 = network.accuflux(field, in_place=False)\n",
    "print(field, out_field_1)"
   ]
  },
  {
   "cell_type": "code",
   "execution_count": null,
   "metadata": {},
   "outputs": [],
   "source": [
    "# field = np.ones(network.n_nodes)\n",
    "# out_field = network.accuflux_splitter(field)\n",
    "# print(out_field)"
   ]
  }
 ],
 "metadata": {
  "kernelspec": {
   "display_name": "hydro",
   "language": "python",
   "name": "python3"
  },
  "language_info": {
   "codemirror_mode": {
    "name": "ipython",
    "version": 3
   },
   "file_extension": ".py",
   "mimetype": "text/x-python",
   "name": "python",
   "nbconvert_exporter": "python",
   "pygments_lexer": "ipython3",
   "version": "3.10.14"
  }
 },
 "nbformat": 4,
 "nbformat_minor": 2
}
