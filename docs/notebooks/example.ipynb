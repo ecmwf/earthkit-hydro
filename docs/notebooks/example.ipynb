{
 "cells": [
  {
   "cell_type": "code",
   "execution_count": null,
   "metadata": {},
   "outputs": [],
   "source": [
    "import earthkit.hydro as ekh\n",
    "import numpy as np\n",
    "import matplotlib.pyplot as plt\n",
    "import matplotlib as mpl\n",
    "import earthkit.data as ekd\n",
    "import earthkit.plots as ekp\n",
    "import earthkit.plots.quickplot as qplot\n",
    "\n",
    "np.random.seed(0)\n",
    "\n",
    "# helper function to create plots\n",
    "def plot(data, norm=mpl.colors.LogNorm()):\n",
    "    _, ax = plt.subplots()\n",
    "    ax.contourf(data, norm=norm)\n",
    "    ax.invert_yaxis()\n",
    "    ax.grid(False)\n",
    "    plt.axis(\"off\")\n",
    "    plt.show()"
   ]
  },
  {
   "cell_type": "markdown",
   "metadata": {},
   "source": [
    "# River Network Creation\n",
    "\n",
    "There are two ways to make a river network, `load_river_network` (preferred) and `create_river_network` (for special use cases). `load_river_network` loads a precomputed optimised version of a river network, whilst `create_river_network` creates a river network from an input file. Unless the river network you wish to use is not provided by `load_river_network`, please use `load_river_network`."
   ]
  },
  {
   "cell_type": "code",
   "execution_count": null,
   "metadata": {},
   "outputs": [],
   "source": [
    "river_network = ekh.load_river_network(domain=\"efas\", river_network_version=\"5\")"
   ]
  },
  {
   "cell_type": "markdown",
   "metadata": {},
   "source": [
    "# Finding Upstream Metrics\n",
    "\n",
    "Given a river network, a common task is to compute an upstream sum, average or other metric. In earthkit-hydro, this is easily possible to compute for the entire field via `calculate_upstream_metric`."
   ]
  },
  {
   "cell_type": "code",
   "execution_count": null,
   "metadata": {},
   "outputs": [],
   "source": [
    "# create or load a field of interest e.g. area, precipitation, discharge\n",
    "# as an example, we provide a unit field over the domain\n",
    "unit_field = np.ones(river_network.mask.shape)\n",
    "\n",
    "upstream_sum_field = ekh.calculate_upstream_metric(river_network, unit_field, metric=\"sum\")\n",
    "\n",
    "plot(upstream_sum_field)"
   ]
  },
  {
   "cell_type": "markdown",
   "metadata": {},
   "source": [
    "We can also compute other metrics, such as weighted averages."
   ]
  },
  {
   "cell_type": "code",
   "execution_count": null,
   "metadata": {},
   "outputs": [],
   "source": [
    "random_field = np.random.rand(*river_network.mask.shape)\n",
    "random_weights = np.random.rand(*river_network.mask.shape)\n",
    "upstream_sum_field = ekh.calculate_upstream_metric(river_network, random_field, metric=\"mean\", weights=random_weights)"
   ]
  },
  {
   "cell_type": "markdown",
   "metadata": {},
   "source": [
    "And earthkit-hydro also supports vector fields!"
   ]
  },
  {
   "cell_type": "code",
   "execution_count": null,
   "metadata": {},
   "outputs": [],
   "source": [
    "vector_field = np.random.rand(2, 4, 3, *river_network.mask.shape)\n",
    "upstream_sum_field = ekh.calculate_upstream_metric(river_network, vector_field, metric=\"max\")"
   ]
  },
  {
   "cell_type": "markdown",
   "metadata": {},
   "source": [
    "# Finding Catchments and Subcatchments\n",
    "\n",
    "Another common task is finding the catchments or subcatchments defined by a series of points (possibly stations). In earthkit-hydro, this is readily available with `find_catchments` and `find_subcatchments`, respectively."
   ]
  },
  {
   "cell_type": "code",
   "execution_count": null,
   "metadata": {},
   "outputs": [],
   "source": [
    "# create or load the points of interest\n",
    "points = np.zeros(river_network.mask.shape)\n",
    "\n",
    "# largest catchment's sink\n",
    "points[1801, 4529] = 5  # given label 5\n",
    "# point within largest catchment but not the sink\n",
    "points[886, 3999] = 2 # given label 2\n",
    "# separate catchment\n",
    "points[1621, 3298] = 1 # given label 1"
   ]
  },
  {
   "cell_type": "code",
   "execution_count": null,
   "metadata": {},
   "outputs": [],
   "source": [
    "# find and plot the subcatchments\n",
    "subcatchment_field = ekh.find_subcatchments(river_network, points)\n",
    "\n",
    "plot(subcatchment_field, norm=None)"
   ]
  },
  {
   "cell_type": "code",
   "execution_count": null,
   "metadata": {},
   "outputs": [],
   "source": [
    "# find and plot the catchments\n",
    "catchment_field = ekh.find_catchments(river_network, points)\n",
    "\n",
    "plot(catchment_field, norm=None)"
   ]
  },
  {
   "cell_type": "markdown",
   "metadata": {},
   "source": [
    "Again, vector fields are supported in earthkit-hydro for all operations."
   ]
  },
  {
   "cell_type": "code",
   "execution_count": null,
   "metadata": {},
   "outputs": [],
   "source": [
    "# create or load the points of interest\n",
    "points = np.zeros((2, *river_network.mask.shape))\n",
    "\n",
    "points[0, 1801, 4529] = 5\n",
    "points[0, 886, 3999] = 2\n",
    "points[0, 1621, 3298] = 1\n",
    "points[1, 1801, 4500] = 3\n",
    "points[1, 886, 3999] = 4\n",
    "\n",
    "subcatchment_field = ekh.find_subcatchments(river_network, points)"
   ]
  },
  {
   "cell_type": "markdown",
   "metadata": {},
   "source": [
    "# Computing Metrics Over River Catchments\n",
    "Finding (sub)catchments is useful, but often one is specifically interested in computing a metric over catchments or subcatchments. Earthkit-hydro provides two functions to do this\n",
    "- `calculate_catchment_metric`, which computes the metric over the catchment defined by each input point (computes the metric over all upstream points)\n",
    "- `calculate_subcatchment_metric`, which computes the metric over the subcatchments defined by the input points.\n",
    "\n",
    "If no points lie in the same catchment, then these two functions are equivalent."
   ]
  },
  {
   "cell_type": "code",
   "execution_count": null,
   "metadata": {},
   "outputs": [],
   "source": [
    "stations = (np.array([1801, 886, 1621]), np.array([4529, 3999, 3298])) # same points as before\n",
    "random_field = np.random.rand(2, *river_network.mask.shape) # vector field\n",
    "random_weights = np.random.rand(2, *river_network.mask.shape) # vector field\n",
    "\n",
    "catchment_metric_at_stations = ekh.calculate_catchment_metric(river_network, random_field, stations, metric=\"mean\")\n",
    "print(catchment_metric_at_stations)"
   ]
  },
  {
   "cell_type": "code",
   "execution_count": null,
   "metadata": {},
   "outputs": [],
   "source": [
    "subcatchment_metric_at_stations = ekh.calculate_subcatchment_metric(river_network, random_field, stations, metric=\"mean\")\n",
    "print(subcatchment_metric_at_stations)"
   ]
  },
  {
   "cell_type": "markdown",
   "metadata": {},
   "source": [
    "If one wishes to compute a metric over an arbitrary area that isn't a catchment or subcatchment, this is also possible with `calculate_metric_for_labels`."
   ]
  },
  {
   "cell_type": "code",
   "execution_count": null,
   "metadata": {},
   "outputs": [],
   "source": [
    "# generate some labelled regions defining where to compute the metric on\n",
    "labels = np.empty(river_network.mask.shape)\n",
    "labels[river_network.mask.shape[0]//2:, river_network.mask.shape[1]//2:] = 1\n",
    "labels[river_network.mask.shape[0]//2:, :river_network.mask.shape[1]//2] = 2\n",
    "labels[:river_network.mask.shape[0]//2, river_network.mask.shape[1]//2:] = 3\n",
    "labels[:river_network.mask.shape[0]//2, :river_network.mask.shape[1]//2] = 4\n",
    "labels_missing_value = 0\n",
    "labels[~river_network.mask] = labels_missing_value # give anything outside the river network a missing value of 0\n",
    "\n",
    "plot(labels, norm=None)"
   ]
  },
  {
   "cell_type": "code",
   "execution_count": null,
   "metadata": {},
   "outputs": [],
   "source": [
    "random_field = np.random.rand(*river_network.mask.shape)\n",
    "\n",
    "metric_for_labels = ekh.calculate_metric_for_labels(random_field, labels, metric=\"mean\", labels_mv=labels_missing_value)\n",
    "print(metric_for_labels)"
   ]
  },
  {
   "cell_type": "markdown",
   "metadata": {},
   "source": [
    "And we can return as a field instead of a dictionary if desired."
   ]
  },
  {
   "cell_type": "code",
   "execution_count": null,
   "metadata": {},
   "outputs": [],
   "source": [
    "metric_field = ekh.calculate_metric_for_labels(random_field, labels, metric=\"mean\", labels_mv=labels_missing_value, return_field=True)\n",
    "\n",
    "plot(metric_field, norm=None)"
   ]
  },
  {
   "cell_type": "markdown",
   "metadata": {},
   "source": [
    "# Subnetwork\n",
    "\n",
    "Another common function is to compute a subnetwork of the original river network, which is easily possible using the `create_subnetwork` method of the river network."
   ]
  },
  {
   "cell_type": "code",
   "execution_count": null,
   "metadata": {},
   "outputs": [],
   "source": [
    "# create a subnetwork given a mask of northern Europe\n",
    "mask = np.full(river_network.mask.shape, False)\n",
    "mask[:1000] = True\n",
    "north_europe_river_network = river_network.create_subnetwork(mask)\n",
    "\n",
    "plot(north_europe_river_network.mask, norm=None)"
   ]
  },
  {
   "cell_type": "code",
   "execution_count": null,
   "metadata": {},
   "outputs": [],
   "source": [
    "# conduct accuflux on the subnetwork\n",
    "accuflux_field = ekh.calculate_upstream_metric(north_europe_river_network, unit_field, \"sum\")\n",
    "plot(accuflux_field)"
   ]
  },
  {
   "cell_type": "code",
   "execution_count": null,
   "metadata": {},
   "outputs": [],
   "source": [
    "# create a subnetwork of a river catchment\n",
    "# can find the mask directly by doing catchment with boolean arrays\n",
    "points = np.full(river_network.mask.shape, False)\n",
    "points[1636, 2267] = True  # Po river catchment sink\n",
    "catchment_mask = ekh.find_catchments(river_network, points, mv=False)\n",
    "po_catchment_network = river_network.create_subnetwork(catchment_mask)\n",
    "plot(po_catchment_network.mask, norm=None)"
   ]
  },
  {
   "cell_type": "code",
   "execution_count": null,
   "metadata": {},
   "outputs": [],
   "source": [
    "# create a subnetwork of large rivers only\n",
    "accuflux_field = ekh.calculate_upstream_metric(river_network, unit_field, \"sum\")\n",
    "large_rivers = accuflux_field > 1000\n",
    "large_river_network = river_network.create_subnetwork(large_rivers)\n",
    "plot(large_river_network.mask, norm=None)"
   ]
  },
  {
   "cell_type": "markdown",
   "metadata": {},
   "source": [
    "# Upstream & Downstream\n",
    "\n",
    "It is also possible to move a river network downstream or upstream with the `move_downstream` and `move_upstream` methods, respectively."
   ]
  },
  {
   "cell_type": "code",
   "execution_count": null,
   "metadata": {},
   "outputs": [],
   "source": [
    "# find confluences of the large rivers\n",
    "upstream_field = ekh.move_downstream(large_river_network, unit_field)\n",
    "plot(upstream_field > 1, norm=None)"
   ]
  },
  {
   "cell_type": "code",
   "execution_count": null,
   "metadata": {},
   "outputs": [],
   "source": [
    "# find sinks of the original river network\n",
    "downstream_field = ekh.move_upstream(river_network, unit_field)\n",
    "plot(downstream_field == 0, norm=None)"
   ]
  },
  {
   "cell_type": "markdown",
   "metadata": {},
   "source": [
    "And of course these support vector fields also."
   ]
  },
  {
   "cell_type": "code",
   "execution_count": null,
   "metadata": {},
   "outputs": [],
   "source": [
    "random_field = np.random.rand(3,4,*river_network.mask.shape)\n",
    "downstream_field = ekh.move_upstream(river_network, random_field)"
   ]
  },
  {
   "cell_type": "markdown",
   "metadata": {},
   "source": [
    "# Example with Earthkit and Precipitation Maps\n",
    "\n",
    "Finally, earthkit-hydro is part of the earthkit ecosystem and interplays with other earthkit packages."
   ]
  },
  {
   "cell_type": "code",
   "execution_count": null,
   "metadata": {},
   "outputs": [],
   "source": [
    "style = ekp.styles.Style(\n",
    "    colors=\"Blues\",\n",
    "    levels=[0, 0.5, 1, 2, 5, 10, 50, 100, 500, 1000, 2000, 3000, 4000],\n",
    "    extend=\"max\",\n",
    ")"
   ]
  },
  {
   "cell_type": "code",
   "execution_count": null,
   "metadata": {},
   "outputs": [],
   "source": [
    "precipitation_field = ekd.from_source(\n",
    "    \"file\",\n",
    "    \"/ec/ws4/tc/emos/work/cems/floods/efas/emos/efas/europe5km/202502/EUD2025021100/forcings/R06a.nc\",\n",
    ")[0].to_numpy()\n",
    "\n",
    "qplot.contourf(precipitation_field[::-1, :], style=style)"
   ]
  },
  {
   "cell_type": "code",
   "execution_count": null,
   "metadata": {},
   "outputs": [],
   "source": [
    "accuflux_field = ekh.flow_downstream(river_network, precipitation_field)\n",
    "qplot.contourf(accuflux_field[::-1, :], style=style)"
   ]
  }
 ],
 "metadata": {
  "kernelspec": {
   "display_name": "hydro",
   "language": "python",
   "name": "python3"
  },
  "language_info": {
   "codemirror_mode": {
    "name": "ipython",
    "version": 3
   },
   "file_extension": ".py",
   "mimetype": "text/x-python",
   "name": "python",
   "nbconvert_exporter": "python",
   "pygments_lexer": "ipython3",
   "version": "3.10.16"
  }
 },
 "nbformat": 4,
 "nbformat_minor": 2
}
