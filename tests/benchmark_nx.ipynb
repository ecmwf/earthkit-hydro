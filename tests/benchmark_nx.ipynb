{
 "cells": [
  {
   "cell_type": "code",
   "execution_count": 1,
   "metadata": {},
   "outputs": [],
   "source": [
    "import networkx as nx\n",
    "import numpy as np\n",
    "\n",
    "downstream_list = [\n",
    "    5,\n",
    "    6,\n",
    "    7,\n",
    "    7,\n",
    "    8,\n",
    "    10,\n",
    "    11,\n",
    "    12,\n",
    "    12,\n",
    "    13,\n",
    "    16,\n",
    "    16,\n",
    "    16,\n",
    "    12,\n",
    "    13,\n",
    "    16,\n",
    "    -1,\n",
    "    16,\n",
    "    17,\n",
    "    18,\n",
    "]"
   ]
  },
  {
   "cell_type": "code",
   "execution_count": 2,
   "metadata": {},
   "outputs": [],
   "source": [
    "def get_edges(downstream_list, mul=0):\n",
    "    sinks, edges = [], []\n",
    "    down = np.array(downstream_list).reshape(4, 5)\n",
    "    if mul > 0:\n",
    "        down = np.pad(down, mul)\n",
    "    down = down.flatten()\n",
    "\n",
    "    for nid, downstream in enumerate(downstream_list):\n",
    "        if downstream == -1:\n",
    "            sinks.append(nid)\n",
    "        else:\n",
    "            edges.append((nid, downstream))\n",
    "    return edges, sinks"
   ]
  },
  {
   "cell_type": "code",
   "execution_count": 3,
   "metadata": {},
   "outputs": [],
   "source": [
    "def get_graph(edges, sinks):\n",
    "    graph = nx.DiGraph(edges, sinks=sinks)\n",
    "    return graph"
   ]
  },
  {
   "cell_type": "code",
   "execution_count": 6,
   "metadata": {},
   "outputs": [
    {
     "name": "stdout",
     "output_type": "stream",
     "text": [
      "Size: 1000.0, Time taken: 0.000352 seconds\n",
      "Size: 10000.0, Time taken: 0.000325 seconds\n",
      "Size: 100000.0, Time taken: 0.000382 seconds\n",
      "Size: 1000000.0, Time taken: 0.000555 seconds\n",
      "Size: 10000000.0, Time taken: 0.001212 seconds\n"
     ]
    },
    {
     "ename": "KeyboardInterrupt",
     "evalue": "",
     "output_type": "error",
     "traceback": [
      "\u001b[0;31m---------------------------------------------------------------------------\u001b[0m",
      "\u001b[0;31mKeyboardInterrupt\u001b[0m                         Traceback (most recent call last)",
      "Cell \u001b[0;32mIn[6], line 10\u001b[0m\n\u001b[1;32m      7\u001b[0m \u001b[38;5;28;01mfor\u001b[39;00m size \u001b[38;5;129;01min\u001b[39;00m sizes:\n\u001b[1;32m      8\u001b[0m     edges, sinks \u001b[38;5;241m=\u001b[39m get_edges(downstream_list, \u001b[38;5;28mint\u001b[39m(size))\n\u001b[0;32m---> 10\u001b[0m     start_time \u001b[38;5;241m=\u001b[39m \u001b[43mtime\u001b[49m\u001b[38;5;241;43m.\u001b[39;49m\u001b[43mtime\u001b[49m\u001b[43m(\u001b[49m\u001b[43m)\u001b[49m\n\u001b[1;32m     11\u001b[0m     graph \u001b[38;5;241m=\u001b[39m get_graph(edges, sinks)\n\u001b[1;32m     12\u001b[0m     end_time \u001b[38;5;241m=\u001b[39m time\u001b[38;5;241m.\u001b[39mtime()\n",
      "\u001b[0;31mKeyboardInterrupt\u001b[0m: "
     ]
    }
   ],
   "source": [
    "import time\n",
    "\n",
    "# Define different sizes for testing\n",
    "sizes = [1e3, 1e4, 1e5, 1e6, 1e7, 1e8, 1e9]\n",
    "\n",
    "# Run tests and time each experiment\n",
    "for size in sizes:\n",
    "    edges, sinks = get_edges(downstream_list, int(size))\n",
    "\n",
    "    start_time = time.time()\n",
    "    graph = get_graph(edges, sinks)\n",
    "    end_time = time.time()\n",
    "\n",
    "    print(f\"Size: {size}, Time taken: {end_time - start_time:.6f} seconds\")"
   ]
  },
  {
   "cell_type": "code",
   "execution_count": null,
   "metadata": {},
   "outputs": [],
   "source": []
  }
 ],
 "metadata": {
  "kernelspec": {
   "display_name": ".venv",
   "language": "python",
   "name": "python3"
  },
  "language_info": {
   "codemirror_mode": {
    "name": "ipython",
    "version": 3
   },
   "file_extension": ".py",
   "mimetype": "text/x-python",
   "name": "python",
   "nbconvert_exporter": "python",
   "pygments_lexer": "ipython3",
   "version": "3.12.4"
  }
 },
 "nbformat": 4,
 "nbformat_minor": 2
}
