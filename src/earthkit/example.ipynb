{
 "cells": [
  {
   "cell_type": "code",
   "execution_count": 1,
   "metadata": {},
   "outputs": [],
   "source": [
    "import hydro\n",
    "import numpy as np"
   ]
  },
  {
   "cell_type": "code",
   "execution_count": 2,
   "metadata": {},
   "outputs": [],
   "source": [
    "path_to_pcraster_file = \"/ec/vol/efas/static_data/5.0/ldd.nc\"\n",
    "network = hydro.from_netcdf_d8(path_to_pcraster_file)"
   ]
  },
  {
   "cell_type": "code",
   "execution_count": null,
   "metadata": {},
   "outputs": [],
   "source": [
    "# path_to_camaflood_file = None\n",
    "# network = hydro.from_camaflood(path_to_camaflood_file)"
   ]
  },
  {
   "cell_type": "code",
   "execution_count": 3,
   "metadata": {},
   "outputs": [],
   "source": [
    "# network = hydro.from_d8(np.array([\n",
    "#         [2, 2, 2, 1, 1],\n",
    "#         [2, 2, 2, 1, 1],\n",
    "#         [3, 2, 1, 4, 4],\n",
    "#         [6, 5, 4, 4, 4]\n",
    "#     ]))"
   ]
  },
  {
   "cell_type": "code",
   "execution_count": 4,
   "metadata": {},
   "outputs": [],
   "source": [
    "# field = np.ones(network.n_nodes)\n",
    "# out_field = network.accuflux(field)\n",
    "# print(field, out_field)\n",
    "# field = np.ones(network.n_nodes)\n",
    "# out_field = network.accuflux(field, in_place=False)\n",
    "# print(field, out_field)"
   ]
  },
  {
   "cell_type": "code",
   "execution_count": 5,
   "metadata": {},
   "outputs": [],
   "source": [
    "# import jax.numpy as jp\n",
    "# field = np.ones(network.n_nodes)\n",
    "# jax_field = jp.array(field)\n",
    "# network.prepare_for_accuflux_splitter()"
   ]
  },
  {
   "cell_type": "code",
   "execution_count": 6,
   "metadata": {},
   "outputs": [],
   "source": [
    "# network.construct_split_topological_sort2()"
   ]
  },
  {
   "cell_type": "code",
   "execution_count": 7,
   "metadata": {},
   "outputs": [],
   "source": [
    "# network.accuflux_splitter_jit()(jax_field)"
   ]
  },
  {
   "cell_type": "code",
   "execution_count": 8,
   "metadata": {},
   "outputs": [],
   "source": [
    "# field = np.ones(network.n_nodes)\n",
    "# network.naive_splitter_accuflux(field)"
   ]
  },
  {
   "cell_type": "code",
   "execution_count": 9,
   "metadata": {},
   "outputs": [
    {
     "name": "stdout",
     "output_type": "stream",
     "text": [
      "[1. 1. 1. ... 1. 1. 1.] [1. 1. 1. ... 2. 1. 1.]\n"
     ]
    }
   ],
   "source": [
    "field = np.ones(network.n_nodes)\n",
    "out_field_1 = network.accuflux(field, in_place=False)\n",
    "print(field, out_field_1)"
   ]
  },
  {
   "cell_type": "code",
   "execution_count": 10,
   "metadata": {},
   "outputs": [],
   "source": [
    "# field = np.ones(network.n_nodes)\n",
    "# out_field = network.accuflux_splitter(field)\n",
    "# print(out_field)"
   ]
  }
 ],
 "metadata": {
  "kernelspec": {
   "display_name": "hydro",
   "language": "python",
   "name": "python3"
  },
  "language_info": {
   "codemirror_mode": {
    "name": "ipython",
    "version": 3
   },
   "file_extension": ".py",
   "mimetype": "text/x-python",
   "name": "python",
   "nbconvert_exporter": "python",
   "pygments_lexer": "ipython3",
   "version": "3.10.14"
  }
 },
 "nbformat": 4,
 "nbformat_minor": 2
}
