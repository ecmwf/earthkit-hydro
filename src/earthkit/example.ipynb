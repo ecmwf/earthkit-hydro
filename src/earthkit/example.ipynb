{
 "cells": [
  {
   "cell_type": "code",
   "execution_count": 1,
   "metadata": {},
   "outputs": [],
   "source": [
    "import hydro\n",
    "import numpy as np"
   ]
  },
  {
   "cell_type": "code",
   "execution_count": 2,
   "metadata": {},
   "outputs": [],
   "source": [
    "# d8_graph = np.array([[2, 2, 2, 1, 1],[2, 2, 2, 1, 1],[3, 2, 1, 4, 4],[6, 5, 4, 4, 4]])\n",
    "# network = hydro.from_d8(d8_graph)\n",
    "\n",
    "path_to_pcraster_file = \"/ec/vol/efas/static_data/5.0/ldd.nc\"\n",
    "network = hydro.from_netcdf_d8(path_to_pcraster_file)\n",
    "\n",
    "# This requires a large amount of memory\n",
    "# path_to_camaflood_file = \"/perm/paga/cmflood/static_network_nc_v2.1/glb_01min/1min.downxy.nc\"\n",
    "# network = hydro.from_camaflood(path_to_camaflood_file)"
   ]
  },
  {
   "cell_type": "code",
   "execution_count": 10,
   "metadata": {},
   "outputs": [
    {
     "data": {
      "text/plain": [
       "array([1.000000e+00, 4.000000e+00, 3.000000e+00, ..., 7.442266e+06,\n",
       "       7.442266e+06, 7.442266e+06])"
      ]
     },
     "execution_count": 10,
     "metadata": {},
     "output_type": "execute_result"
    }
   ],
   "source": [
    "catchments = network.catchment(np.arange(network.n_nodes), overwrite=True)"
   ]
  },
  {
   "cell_type": "code",
   "execution_count": null,
   "metadata": {},
   "outputs": [],
   "source": []
  },
  {
   "cell_type": "code",
   "execution_count": 4,
   "metadata": {},
   "outputs": [],
   "source": [
    "field = np.ones(network.n_nodes)"
   ]
  },
  {
   "cell_type": "code",
   "execution_count": 5,
   "metadata": {},
   "outputs": [],
   "source": [
    "out_field = network.accuflux(field, in_place=False)"
   ]
  },
  {
   "cell_type": "code",
   "execution_count": 6,
   "metadata": {},
   "outputs": [],
   "source": [
    "field = np.ones(network.n_nodes)"
   ]
  },
  {
   "cell_type": "code",
   "execution_count": 7,
   "metadata": {},
   "outputs": [
    {
     "data": {
      "text/plain": [
       "array([1., 1., 1., ..., 2., 1., 1.])"
      ]
     },
     "execution_count": 7,
     "metadata": {},
     "output_type": "execute_result"
    }
   ],
   "source": [
    "network.accuflux(field, in_place=True)"
   ]
  },
  {
   "cell_type": "code",
   "execution_count": 8,
   "metadata": {},
   "outputs": [
    {
     "name": "stdout",
     "output_type": "stream",
     "text": [
      "[ 1.  1.  1. 21. 14.  4.  3.  2.  1.  1.]\n"
     ]
    }
   ],
   "source": [
    "print(out_field[0:10])"
   ]
  }
 ],
 "metadata": {
  "kernelspec": {
   "display_name": "hydro",
   "language": "python",
   "name": "python3"
  },
  "language_info": {
   "codemirror_mode": {
    "name": "ipython",
    "version": 3
   },
   "file_extension": ".py",
   "mimetype": "text/x-python",
   "name": "python",
   "nbconvert_exporter": "python",
   "pygments_lexer": "ipython3",
   "version": "3.10.14"
  }
 },
 "nbformat": 4,
 "nbformat_minor": 2
}
